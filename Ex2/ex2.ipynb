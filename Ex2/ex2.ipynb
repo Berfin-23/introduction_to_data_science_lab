{
 "cells": [
  {
   "cell_type": "code",
   "execution_count": 1,
   "metadata": {},
   "outputs": [
    {
     "name": "stdout",
     "output_type": "stream",
     "text": [
      "Data:\n",
      "    id              competitorname chocolate fruity caramel peanutyalmondy  \\\n",
      "0    0                   100 Grand       Yes     No     Yes             No   \n",
      "1    1                3 Musketeers       Yes     No      No             No   \n",
      "2    2                   Air Heads        No    Yes      No             No   \n",
      "3    3                  Almond Joy       Yes     No      No            Yes   \n",
      "4    4                   Baby Ruth       Yes     No     Yes            Yes   \n",
      "..  ..                         ...       ...    ...     ...            ...   \n",
      "78  78                   Twizzlers        No    Yes      No             No   \n",
      "79  79                    Warheads        No    Yes      No             No   \n",
      "80  80        Welch's Fruit Snacks        No    Yes      No             No   \n",
      "81  81  Werther's Original Caramel        No     No     Yes             No   \n",
      "82  82                    Whoppers       Yes     No      No             No   \n",
      "\n",
      "   nougat crispedricewafer hard  bar pluribus  sugarpercent  pricepercent  \\\n",
      "0      No              Yes   No  Yes       No         0.732         0.860   \n",
      "1     Yes               No   No  Yes       No         0.604         0.511   \n",
      "2      No               No   No   No       No         0.906         0.511   \n",
      "3      No               No   No  Yes       No         0.465         0.767   \n",
      "4     Yes               No   No  Yes       No         0.604         0.767   \n",
      "..    ...              ...  ...  ...      ...           ...           ...   \n",
      "78     No               No   No   No       No         0.220         0.116   \n",
      "79     No               No  Yes   No       No         0.093         0.116   \n",
      "80     No               No   No   No      Yes         0.313         0.313   \n",
      "81     No               No  Yes   No       No         0.186         0.267   \n",
      "82     No              Yes   No   No      Yes         0.872         0.848   \n",
      "\n",
      "    winpercent  \n",
      "0    66.971725  \n",
      "1    67.602936  \n",
      "2    52.341465  \n",
      "3    50.347546  \n",
      "4    56.914547  \n",
      "..         ...  \n",
      "78   45.466282  \n",
      "79   39.011898  \n",
      "80   44.375519  \n",
      "81   41.904308  \n",
      "82   49.524113  \n",
      "\n",
      "[83 rows x 14 columns]\n"
     ]
    }
   ],
   "source": [
    "import pandas as pd\n",
    "\n",
    "data = pd.read_csv(\"candy.csv\")\n",
    "print(f\"Data:\\n{data}\")"
   ]
  },
  {
   "cell_type": "code",
   "execution_count": 5,
   "metadata": {},
   "outputs": [
    {
     "name": "stdout",
     "output_type": "stream",
     "text": [
      "Column name: id, Datatype: int64\n",
      "Column name: competitorname, Datatype: object\n",
      "Column name: chocolate, Datatype: object\n",
      "Column name: fruity, Datatype: object\n",
      "Column name: caramel, Datatype: object\n",
      "Column name: peanutyalmondy, Datatype: object\n",
      "Column name: nougat, Datatype: object\n",
      "Column name: crispedricewafer, Datatype: object\n",
      "Column name: hard, Datatype: object\n",
      "Column name: bar, Datatype: object\n",
      "Column name: pluribus, Datatype: object\n",
      "Column name: sugarpercent, Datatype: float64\n",
      "Column name: pricepercent, Datatype: float64\n",
      "Column name: winpercent, Datatype: float64\n"
     ]
    },
    {
     "name": "stderr",
     "output_type": "stream",
     "text": [
      "/tmp/ipykernel_12747/962551404.py:5: FutureWarning: Series.__getitem__ treating keys as positions is deprecated. In a future version, integer keys will always be treated as labels (consistent with DataFrame behavior). To access a value by position, use `ser.iloc[pos]`\n",
      "  print(f\"Column name: {col.columns[i]}, Datatype: {dt[i]}\")\n"
     ]
    }
   ],
   "source": [
    "#1)Displaying column name and dataypes of the column\n",
    "col = data.head()\n",
    "dt = data.dtypes\n",
    "for i in range(len(col.columns)):\n",
    "    print(f\"Column name: {col.columns[i]}, Datatype: {dt[i]}\")"
   ]
  },
  {
   "cell_type": "code",
   "execution_count": 6,
   "metadata": {},
   "outputs": [
    {
     "name": "stdout",
     "output_type": "stream",
     "text": [
      "              id  sugarpercent  pricepercent  winpercent\n",
      "count  83.000000     83.000000     83.000000   83.000000\n",
      "mean   41.000000      0.489916      0.472627   50.584908\n",
      "std    24.103942      0.276498      0.286503   14.748880\n",
      "min     0.000000      0.034000      0.011000   22.445341\n",
      "25%    20.500000      0.267000      0.261000   39.163280\n",
      "50%    41.000000      0.465000      0.465000   48.982651\n",
      "75%    61.500000      0.732000      0.703000   60.332349\n",
      "max    82.000000      0.988000      0.976000   84.180290\n"
     ]
    }
   ],
   "source": [
    "#2)Display statistical information about suitable columns.\n",
    "stats = data.describe()\n",
    "print(stats)"
   ]
  },
  {
   "cell_type": "code",
   "execution_count": 7,
   "metadata": {},
   "outputs": [
    {
     "name": "stdout",
     "output_type": "stream",
     "text": [
      "   chocolate caramel fruity\n",
      "0        Yes     Yes     No\n",
      "1        Yes      No     No\n",
      "2         No      No    Yes\n",
      "3        Yes      No     No\n",
      "4        Yes     Yes     No\n",
      "..       ...     ...    ...\n",
      "78        No      No    Yes\n",
      "79        No      No    Yes\n",
      "80        No      No    Yes\n",
      "81        No     Yes     No\n",
      "82       Yes      No     No\n",
      "\n",
      "[83 rows x 3 columns]\n"
     ]
    }
   ],
   "source": [
    "#3)Display all the rows of the column choclate, caramel and fruity.\n",
    "rows_of_cols = data[[\"chocolate\", \"caramel\", \"fruity\"]]\n",
    "print(rows_of_cols)"
   ]
  },
  {
   "cell_type": "code",
   "execution_count": 10,
   "metadata": {},
   "outputs": [
    {
     "name": "stdout",
     "output_type": "stream",
     "text": [
      "0    0\n",
      "1    1\n",
      "2    2\n",
      "Name: id, dtype: int64\n",
      "0    Yes\n",
      "1    Yes\n",
      "2     No\n",
      "3    Yes\n",
      "Name: chocolate, dtype: object\n"
     ]
    }
   ],
   "source": [
    "#4)Display by slicing the dataset using iloc and loc commands.\n",
    "iloc = data.iloc[:3, 0]\n",
    "loc = data.loc[:3, \"chocolate\"]\n",
    "print(iloc)\n",
    "print(loc)"
   ]
  },
  {
   "cell_type": "code",
   "execution_count": 12,
   "metadata": {},
   "outputs": [
    {
     "name": "stdout",
     "output_type": "stream",
     "text": [
      "Null values in the dataset:\n",
      "        id  competitorname  chocolate  fruity  caramel  peanutyalmondy  nougat  \\\n",
      "0   False           False      False   False    False           False   False   \n",
      "1   False           False      False   False    False           False   False   \n",
      "2   False           False      False   False    False           False   False   \n",
      "3   False           False      False   False    False           False   False   \n",
      "4   False           False      False   False    False           False   False   \n",
      "..    ...             ...        ...     ...      ...             ...     ...   \n",
      "78  False           False      False   False    False           False   False   \n",
      "79  False           False      False   False    False           False   False   \n",
      "80  False           False      False   False    False           False   False   \n",
      "81  False           False      False   False    False           False   False   \n",
      "82  False           False      False   False    False           False   False   \n",
      "\n",
      "    crispedricewafer   hard    bar  pluribus  sugarpercent  pricepercent  \\\n",
      "0              False  False  False     False         False         False   \n",
      "1              False  False  False     False         False         False   \n",
      "2              False  False  False     False         False         False   \n",
      "3              False  False  False     False         False         False   \n",
      "4              False  False  False     False         False         False   \n",
      "..               ...    ...    ...       ...           ...           ...   \n",
      "78             False  False  False     False         False         False   \n",
      "79             False  False  False     False         False         False   \n",
      "80             False  False  False     False         False         False   \n",
      "81             False  False  False     False         False         False   \n",
      "82             False  False  False     False         False         False   \n",
      "\n",
      "    winpercent  \n",
      "0        False  \n",
      "1        False  \n",
      "2        False  \n",
      "3        False  \n",
      "4        False  \n",
      "..         ...  \n",
      "78       False  \n",
      "79       False  \n",
      "80       False  \n",
      "81       False  \n",
      "82       False  \n",
      "\n",
      "[83 rows x 14 columns]\n",
      "\n",
      "Dataset after filling null values:\n",
      "     id              competitorname chocolate fruity caramel peanutyalmondy  \\\n",
      "0    0                   100 Grand       Yes     No     Yes             No   \n",
      "1    1                3 Musketeers       Yes     No      No             No   \n",
      "2    2                   Air Heads        No    Yes      No             No   \n",
      "3    3                  Almond Joy       Yes     No      No            Yes   \n",
      "4    4                   Baby Ruth       Yes     No     Yes            Yes   \n",
      "..  ..                         ...       ...    ...     ...            ...   \n",
      "78  78                   Twizzlers        No    Yes      No             No   \n",
      "79  79                    Warheads        No    Yes      No             No   \n",
      "80  80        Welch's Fruit Snacks        No    Yes      No             No   \n",
      "81  81  Werther's Original Caramel        No     No     Yes             No   \n",
      "82  82                    Whoppers       Yes     No      No             No   \n",
      "\n",
      "   nougat crispedricewafer hard  bar pluribus  sugarpercent  pricepercent  \\\n",
      "0      No              Yes   No  Yes       No         0.732         0.860   \n",
      "1     Yes               No   No  Yes       No         0.604         0.511   \n",
      "2      No               No   No   No       No         0.906         0.511   \n",
      "3      No               No   No  Yes       No         0.465         0.767   \n",
      "4     Yes               No   No  Yes       No         0.604         0.767   \n",
      "..    ...              ...  ...  ...      ...           ...           ...   \n",
      "78     No               No   No   No       No         0.220         0.116   \n",
      "79     No               No  Yes   No       No         0.093         0.116   \n",
      "80     No               No   No   No      Yes         0.313         0.313   \n",
      "81     No               No  Yes   No       No         0.186         0.267   \n",
      "82     No              Yes   No   No      Yes         0.872         0.848   \n",
      "\n",
      "    winpercent  \n",
      "0    66.971725  \n",
      "1    67.602936  \n",
      "2    52.341465  \n",
      "3    50.347546  \n",
      "4    56.914547  \n",
      "..         ...  \n",
      "78   45.466282  \n",
      "79   39.011898  \n",
      "80   44.375519  \n",
      "81   41.904308  \n",
      "82   49.524113  \n",
      "\n",
      "[83 rows x 14 columns]\n"
     ]
    }
   ],
   "source": [
    "#5)Check the dataset for any null value and fill the null value with 0.01\n",
    "null_values = data.isnull()\n",
    "print(\"Null values in the dataset:\\n\", null_values)\n",
    "\n",
    "data_filled = data.fillna(0.01)\n",
    "print(\"\\nDataset after filling null values:\\n\", data_filled)"
   ]
  },
  {
   "cell_type": "code",
   "execution_count": 13,
   "metadata": {},
   "outputs": [
    {
     "name": "stdout",
     "output_type": "stream",
     "text": [
      "Mean of winpercent: 50.58490762650603\n"
     ]
    }
   ],
   "source": [
    "#6)Find the mean of winpercent.\n",
    "mean_winpercent = data['winpercent'].mean()\n",
    "print(\"Mean of winpercent:\", mean_winpercent)"
   ]
  }
 ],
 "metadata": {
  "kernelspec": {
   "display_name": "Python 3",
   "language": "python",
   "name": "python3"
  },
  "language_info": {
   "codemirror_mode": {
    "name": "ipython",
    "version": 3
   },
   "file_extension": ".py",
   "mimetype": "text/x-python",
   "name": "python",
   "nbconvert_exporter": "python",
   "pygments_lexer": "ipython3",
   "version": "3.10.13"
  }
 },
 "nbformat": 4,
 "nbformat_minor": 2
}
